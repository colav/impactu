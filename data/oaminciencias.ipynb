{
 "cells": [
  {
   "cell_type": "markdown",
   "id": "b66bf275-eb4f-423f-92ff-f1c1a303955c",
   "metadata": {},
   "source": [
    "`title.search` search on `display name` field.\n",
    "\n",
    "When you use search, each returned entity in the results lists gets an extra property called relevance_score, and the list is by default sorted in descending order of relevance_score.\n",
    "\n",
    "If you search for a multiple-word phrase, the algorithm will treat each word separately, and rank results higher when the words appear close together. "
   ]
  },
  {
   "cell_type": "code",
   "execution_count": 258,
   "id": "f3f0480f-b9af-48bb-bc35-8b0ca65faa8c",
   "metadata": {},
   "outputs": [],
   "source": [
    "import json\n",
    "from time import sleep\n",
    "import requests\n",
    "from re import sub\n",
    "from thefuzz import process\n",
    "from bs4 import BeautifulSoup\n",
    "#from unidecode import unidecode: OpenAlex uses unicode characters\n",
    "#https://api.openalex.org/works?filter=title.search:Baryonic+violation+of+R+parity+from+anomalous+U(1)H\n",
    "def flatten(xss):\n",
    "    return [x for xs in xss for x in xs]"
   ]
  },
  {
   "cell_type": "code",
   "execution_count": 259,
   "id": "29ef2944-a9d2-4458-81ad-8b35832b18e9",
   "metadata": {},
   "outputs": [],
   "source": []
  },
  {
   "cell_type": "code",
   "execution_count": 236,
   "id": "dbf2f7d7-f15e-4a51-83d2-501fb94955f6",
   "metadata": {},
   "outputs": [],
   "source": [
    "file='/home/restrepo/Downloads/minciencias_noauthors.json'\n",
    "oa_url='https://api.openalex.org/works?filter=title.search:'"
   ]
  },
  {
   "cell_type": "code",
   "execution_count": 237,
   "id": "571ad29c-c4cd-4b93-958f-88284fe08bd5",
   "metadata": {},
   "outputs": [],
   "source": [
    "f=open(file,'r')\n",
    "j=json.load(f)\n",
    "f.close()"
   ]
  },
  {
   "cell_type": "code",
   "execution_count": 238,
   "id": "48694ff9-ead2-491a-893d-0419742ab36c",
   "metadata": {},
   "outputs": [
    {
     "data": {
      "text/plain": [
       "100"
      ]
     },
     "execution_count": 238,
     "metadata": {},
     "output_type": "execute_result"
    }
   ],
   "source": [
    "len(j)"
   ]
  },
  {
   "cell_type": "code",
   "execution_count": 264,
   "id": "172c4f20-2a98-4586-8bad-6eba3694e384",
   "metadata": {},
   "outputs": [
    {
     "data": {
      "text/plain": [
       "{'titles': [{'title': 'La experiencia Internacional de crecimiento siglos XX-XXI lecciones para colombia',\n",
       "   'lang': 'es',\n",
       "   'source': 'minciencias'}],\n",
       " 'updated': [{'source': 'minciencias', 'time': 1711049323}],\n",
       " 'subtitle': '',\n",
       " 'abstract': '',\n",
       " 'keywords': [],\n",
       " 'types': [{'provenance': 'minciencias',\n",
       "   'source': 'minciencias',\n",
       "   'type': 'Artículos'}],\n",
       " 'external_ids': [{'provenance': 'minciencias',\n",
       "   'source': 'minciencias',\n",
       "   'id': 'ART-0000000007-14'},\n",
       "  {'provenance': 'minciencias', 'source': 'COD_RH', 'id': '0000000007'},\n",
       "  {'provenance': 'minciencias', 'source': 'COD_PRODUCTO', 'id': '14'}],\n",
       " 'external_urls': [],\n",
       " 'date_published': None,\n",
       " 'year_published': None,\n",
       " 'bibliographic_info': {},\n",
       " 'references_count': None,\n",
       " 'references': [],\n",
       " 'citations_count': [],\n",
       " 'citations': [],\n",
       " 'author_count': 1,\n",
       " 'authors': [{'full_name': '',\n",
       "   'affiliations': [{'id': '65f93c212685775e89fdd8ce',\n",
       "     'name': 'Grupo de Desarrollo y Equidad',\n",
       "     'types': [{'source': 'minciencias', 'type': 'group'}]}]}],\n",
       " 'source': {},\n",
       " 'ranking': [{'provenance': 'minciencias',\n",
       "   'date': 1383195600,\n",
       "   'rank': 'ART-GC_ART',\n",
       "   'source': 'minciencias'}],\n",
       " 'subjects': [],\n",
       " 'citations_by_year': []}"
      ]
     },
     "execution_count": 264,
     "metadata": {},
     "output_type": "execute_result"
    }
   ],
   "source": [
    "j[1]"
   ]
  },
  {
   "cell_type": "code",
   "execution_count": 265,
   "id": "56b646c5-8ba3-43d7-b613-d8a8a7cebb03",
   "metadata": {},
   "outputs": [
    {
     "name": "stdout",
     "output_type": "stream",
     "text": [
      "012\r"
     ]
    },
    {
     "name": "stderr",
     "output_type": "stream",
     "text": [
      "/tmp/ipykernel_29282/2812613356.py:20: MarkupResemblesLocatorWarning: The input looks more like a filename than markup. You may want to open this file and pass the filehandle into Beautiful Soup.\n",
      "  if [tag.name for tag in BeautifulSoup(titles[ii]).find_all() if tag.name.find('mml:')>-1]:\n"
     ]
    },
    {
     "name": "stdout",
     "output_type": "stream",
     "text": [
      "099\r"
     ]
    }
   ],
   "source": [
    "i=7\n",
    "results = []\n",
    "found = []\n",
    "titles = []\n",
    "for i in range(len(j)):\n",
    "    print(str(i).zfill(3),end='\\r')\n",
    "    sleep(0.1)\n",
    "    original_title = j[i].get('titles')[0].get('title')\n",
    "    #original_title = \"Dirac dark matter, neutrino masses, and dark baryogenesis\"\n",
    "    #original_title = \"Baryonic violation of R parity from anomalous U(1)H\"\n",
    "    #Remove special OpenAlex API characters\n",
    "    title = sub('[_\\|,]','',original_title).replace(' ','+')\n",
    "    oa=requests.get(oa_url+title)\n",
    "\n",
    "    if oa.status_code == 200 and oa.json().get('results'):\n",
    "        results = oa.json().get('results') # higher relevance_score\n",
    "        titles = [result.get('display_name') for result in results]\n",
    "        #Check mathml in titles and UPDATE display_name value!\n",
    "        for ii in range(len(titles)):\n",
    "            if [tag.name for tag in BeautifulSoup(titles[ii]).find_all() if tag.name.find('mml:')>-1]:\n",
    "                titles[ii] = BeautifulSoup(sub(r\"([a-zA-Z])<\", r\"\\1 <\",titles[ii])).text.strip()\n",
    "                results[ii]['display_name'] = titles[ii]\n",
    "        display_name,score = process.extractOne(original_title,titles)\n",
    "        result = [d for d in results if d.get('display_name')==display_name and score > 94]\n",
    "        #If not author avalaible check at least for country\n",
    "        if result:\n",
    "            result = result[0]\n",
    "            countries = [d.get('countries') for d  in result.get('authorships')]\n",
    "            if countries:\n",
    "                countries = flatten(countries)\n",
    "            if 'CO' in list(set(countries)):\n",
    "                result['minciencias'] = j[i]\n",
    "                result['original_title'] = original_title\n",
    "                result['score_thefuzz'] = score\n",
    "                found.append(result)"
   ]
  },
  {
   "cell_type": "code",
   "execution_count": 266,
   "id": "e3762e2a-5165-471c-94ac-5a4490543513",
   "metadata": {},
   "outputs": [
    {
     "data": {
      "text/plain": [
       "41"
      ]
     },
     "execution_count": 266,
     "metadata": {},
     "output_type": "execute_result"
    }
   ],
   "source": [
    "len(found)"
   ]
  },
  {
   "cell_type": "code",
   "execution_count": 267,
   "id": "c9112b31-c61e-4740-a049-b8580f90a212",
   "metadata": {},
   "outputs": [],
   "source": [
    "import pandas as pd"
   ]
  },
  {
   "cell_type": "code",
   "execution_count": 269,
   "id": "4af24798-084d-4fb0-b321-ac1e496a308d",
   "metadata": {},
   "outputs": [
    {
     "data": {
      "text/html": [
       "<div>\n",
       "<style scoped>\n",
       "    .dataframe tbody tr th:only-of-type {\n",
       "        vertical-align: middle;\n",
       "    }\n",
       "\n",
       "    .dataframe tbody tr th {\n",
       "        vertical-align: top;\n",
       "    }\n",
       "\n",
       "    .dataframe thead th {\n",
       "        text-align: right;\n",
       "    }\n",
       "</style>\n",
       "<table border=\"1\" class=\"dataframe\">\n",
       "  <thead>\n",
       "    <tr style=\"text-align: right;\">\n",
       "      <th></th>\n",
       "      <th>display_name</th>\n",
       "      <th>original_title</th>\n",
       "      <th>score_thefuzz</th>\n",
       "    </tr>\n",
       "  </thead>\n",
       "  <tbody>\n",
       "    <tr>\n",
       "      <th>0</th>\n",
       "      <td>La enseñanza en economía: una reflexión desde ...</td>\n",
       "      <td>La enseñanza en economía: una reflexión desde ...</td>\n",
       "      <td>100</td>\n",
       "    </tr>\n",
       "    <tr>\n",
       "      <th>1</th>\n",
       "      <td>La enseñanza de la economía: reflexiones acerc...</td>\n",
       "      <td>La enseñanza de la Economía: reflexiones acerc...</td>\n",
       "      <td>100</td>\n",
       "    </tr>\n",
       "    <tr>\n",
       "      <th>2</th>\n",
       "      <td>La enseñanza de la economía: reflexiones acerc...</td>\n",
       "      <td>La enseñanza de la economía: Reflexiones acerc...</td>\n",
       "      <td>95</td>\n",
       "    </tr>\n",
       "    <tr>\n",
       "      <th>3</th>\n",
       "      <td>Susceptibilidad de Aedes aegypti (Diptera: Cul...</td>\n",
       "      <td>Susceptibilidad de Aedes aegypti (Diptera: Cul...</td>\n",
       "      <td>100</td>\n",
       "    </tr>\n",
       "    <tr>\n",
       "      <th>4</th>\n",
       "      <td>Energía y desarrollo económico</td>\n",
       "      <td>Energía y Desarrollo Económico</td>\n",
       "      <td>100</td>\n",
       "    </tr>\n",
       "    <tr>\n",
       "      <th>5</th>\n",
       "      <td>La regulación de telefonía local en Colombia: ...</td>\n",
       "      <td>La Regulación de Telefonía Local en Colombia: ...</td>\n",
       "      <td>100</td>\n",
       "    </tr>\n",
       "    <tr>\n",
       "      <th>6</th>\n",
       "      <td>La economía experimental como aprendizaje sign...</td>\n",
       "      <td>La economía experimental como aprendizaje sign...</td>\n",
       "      <td>100</td>\n",
       "    </tr>\n",
       "    <tr>\n",
       "      <th>7</th>\n",
       "      <td>Aportes Del “Nonágono semiótico” Para la compr...</td>\n",
       "      <td>Aportes del \"nonágono semiótico\" para la compr...</td>\n",
       "      <td>99</td>\n",
       "    </tr>\n",
       "    <tr>\n",
       "      <th>8</th>\n",
       "      <td>La imagen visual de la identidad, entre resist...</td>\n",
       "      <td>La imagen visual de la identidad, entre resist...</td>\n",
       "      <td>100</td>\n",
       "    </tr>\n",
       "    <tr>\n",
       "      <th>9</th>\n",
       "      <td>Bioformulado de Beauveria bassiana (ATCC MYA-4...</td>\n",
       "      <td>Bioformulado de Beauveria bassiana (ATCC MYA-4...</td>\n",
       "      <td>100</td>\n",
       "    </tr>\n",
       "    <tr>\n",
       "      <th>10</th>\n",
       "      <td>Procedimiento guía para manejo seguro de susta...</td>\n",
       "      <td>PROCEDIMIENTO GUÍA PARA MANEJO SEGURO DE SUSTA...</td>\n",
       "      <td>100</td>\n",
       "    </tr>\n",
       "    <tr>\n",
       "      <th>11</th>\n",
       "      <td>Riesgos biológico y químico en planta de compo...</td>\n",
       "      <td>Riesgos biológico y químico en planta de compo...</td>\n",
       "      <td>100</td>\n",
       "    </tr>\n",
       "    <tr>\n",
       "      <th>12</th>\n",
       "      <td>Balance de la Cooperación Internacional al des...</td>\n",
       "      <td>Balance de la Cooperación Internacional al des...</td>\n",
       "      <td>100</td>\n",
       "    </tr>\n",
       "    <tr>\n",
       "      <th>13</th>\n",
       "      <td>Simulación de la cesárea perimortem, más allá ...</td>\n",
       "      <td>Simulación de la cesárea perimortem , más allá...</td>\n",
       "      <td>97</td>\n",
       "    </tr>\n",
       "    <tr>\n",
       "      <th>14</th>\n",
       "      <td>Remesas y organizaciones locales</td>\n",
       "      <td>Remesas y organizaciones locales</td>\n",
       "      <td>100</td>\n",
       "    </tr>\n",
       "    <tr>\n",
       "      <th>15</th>\n",
       "      <td>Aproximaciones Teóricas a la Relación entre Re...</td>\n",
       "      <td>Aproximaciones teóricas a la relación entre Re...</td>\n",
       "      <td>100</td>\n",
       "    </tr>\n",
       "    <tr>\n",
       "      <th>16</th>\n",
       "      <td>Gestión estratégica de la cultura organizacion...</td>\n",
       "      <td>Gestión estratégica de la cultura organizacion...</td>\n",
       "      <td>100</td>\n",
       "    </tr>\n",
       "    <tr>\n",
       "      <th>17</th>\n",
       "      <td>De la Responsabilidad Social Empresarial a la ...</td>\n",
       "      <td>De la Responsabilidad Social Empresarial a la ...</td>\n",
       "      <td>100</td>\n",
       "    </tr>\n",
       "    <tr>\n",
       "      <th>18</th>\n",
       "      <td>Horswill Algorithm Application to Avoid Obstacles</td>\n",
       "      <td>Horswill Algorithm Application to Avoid Obstacles</td>\n",
       "      <td>100</td>\n",
       "    </tr>\n",
       "    <tr>\n",
       "      <th>19</th>\n",
       "      <td>Rendezvous Consensus Algorithm Applied to the ...</td>\n",
       "      <td>Rendezvous Consensus Algorithm Applied to the ...</td>\n",
       "      <td>100</td>\n",
       "    </tr>\n",
       "    <tr>\n",
       "      <th>20</th>\n",
       "      <td>EMPLEO DE GRÁFICAS EN EL ESTUDIO DEL CONCEPTO ...</td>\n",
       "      <td>EMPLEO DE GRÁFICAS EN EL ESTUDIO DEL CONCEPTO ...</td>\n",
       "      <td>100</td>\n",
       "    </tr>\n",
       "    <tr>\n",
       "      <th>21</th>\n",
       "      <td>Construcción de una herramienta para certifica...</td>\n",
       "      <td>Construcción de una herramienta para certifica...</td>\n",
       "      <td>100</td>\n",
       "    </tr>\n",
       "    <tr>\n",
       "      <th>22</th>\n",
       "      <td>Effect on thermal oxidation in TiO2 nanostruct...</td>\n",
       "      <td>Effect on thermal oxidation in TiO2 nanostruct...</td>\n",
       "      <td>100</td>\n",
       "    </tr>\n",
       "    <tr>\n",
       "      <th>23</th>\n",
       "      <td>RIQUEZA Y DISTRIBUCIÓN DE MUSGOS EN EL DEPARTA...</td>\n",
       "      <td>Riqueza y distribución de musgos en el departa...</td>\n",
       "      <td>100</td>\n",
       "    </tr>\n",
       "    <tr>\n",
       "      <th>24</th>\n",
       "      <td>Antioxidant activity and free radical-scavengi...</td>\n",
       "      <td>Antioxidant activity and free radical scavengi...</td>\n",
       "      <td>100</td>\n",
       "    </tr>\n",
       "    <tr>\n",
       "      <th>25</th>\n",
       "      <td>SHALE PLAYS: PRONÓSTICOS DE PRODUCCIÓN A PARTI...</td>\n",
       "      <td>SHALE PLAYS: PRONÓSTICOS DE PRODUCCIÓN A PARTI...</td>\n",
       "      <td>100</td>\n",
       "    </tr>\n",
       "    <tr>\n",
       "      <th>26</th>\n",
       "      <td>APLICACIÓN DEL APRENDIZAJE BASADO EN PROBLEMAS...</td>\n",
       "      <td>APLICACIÓN DEL APRENDIZAJE BASADO EN PROBLEMAS...</td>\n",
       "      <td>100</td>\n",
       "    </tr>\n",
       "    <tr>\n",
       "      <th>27</th>\n",
       "      <td>Diagnóstico de la cultura emprendedora en la E...</td>\n",
       "      <td>DIAGNÓSTICO DE LA CULTURA EMPRENDEDORA EN LA E...</td>\n",
       "      <td>100</td>\n",
       "    </tr>\n",
       "    <tr>\n",
       "      <th>28</th>\n",
       "      <td>Biomodelos animales y enfermedades infecciosas...</td>\n",
       "      <td>Biomodelos animales y enfermedades infecciosas...</td>\n",
       "      <td>100</td>\n",
       "    </tr>\n",
       "    <tr>\n",
       "      <th>29</th>\n",
       "      <td>Active Learning: Faculty Mind-sets and the Nee...</td>\n",
       "      <td>Active Learning: Faculty Mind-sets and the Nee...</td>\n",
       "      <td>100</td>\n",
       "    </tr>\n",
       "    <tr>\n",
       "      <th>30</th>\n",
       "      <td>Ambientes de Aprendizaje en contexto: estudio ...</td>\n",
       "      <td>Ambientes de Aprendizaje en contexto: estudio ...</td>\n",
       "      <td>100</td>\n",
       "    </tr>\n",
       "    <tr>\n",
       "      <th>31</th>\n",
       "      <td>Aplicaciones de un modelo integral para el est...</td>\n",
       "      <td>Aplicaciones de un modelo integral para el est...</td>\n",
       "      <td>100</td>\n",
       "    </tr>\n",
       "    <tr>\n",
       "      <th>32</th>\n",
       "      <td>Aplicación de base tecnológica como apoyo al p...</td>\n",
       "      <td>Aplicación de base tecnológica como apoyo al p...</td>\n",
       "      <td>100</td>\n",
       "    </tr>\n",
       "    <tr>\n",
       "      <th>33</th>\n",
       "      <td>Multitemporal Land Cover Change Analysis in th...</td>\n",
       "      <td>Multitemporal Land Cover Change Analysis in th...</td>\n",
       "      <td>100</td>\n",
       "    </tr>\n",
       "    <tr>\n",
       "      <th>34</th>\n",
       "      <td>SEMISÍNTESIS DE ÉSTERES Y AMIDAS A PARTIR DE U...</td>\n",
       "      <td>SEMISÍNTESIS DE ÉSTERES Y AMIDAS A PARTIR DE U...</td>\n",
       "      <td>100</td>\n",
       "    </tr>\n",
       "    <tr>\n",
       "      <th>35</th>\n",
       "      <td>Ácidos Orgánicos Constitutivos de las Resinas ...</td>\n",
       "      <td>Ácidos Orgánicos Constitutivos de las Resinas ...</td>\n",
       "      <td>100</td>\n",
       "    </tr>\n",
       "    <tr>\n",
       "      <th>36</th>\n",
       "      <td>Bone age detection via carpogram analysis usin...</td>\n",
       "      <td>Bone age detection via carpogram analysis usin...</td>\n",
       "      <td>100</td>\n",
       "    </tr>\n",
       "    <tr>\n",
       "      <th>37</th>\n",
       "      <td>An empirical study on global bone age assessment</td>\n",
       "      <td>An empirical study on global bone age assessment</td>\n",
       "      <td>100</td>\n",
       "    </tr>\n",
       "    <tr>\n",
       "      <th>38</th>\n",
       "      <td>Digital image processing techniques applied to...</td>\n",
       "      <td>Digital image processing techniques applied to...</td>\n",
       "      <td>100</td>\n",
       "    </tr>\n",
       "    <tr>\n",
       "      <th>39</th>\n",
       "      <td>&amp;lt;strong&amp;gt;Two new earthworm species (Oligo...</td>\n",
       "      <td>Two new earthworm species (Oligochaeta: Anneli...</td>\n",
       "      <td>95</td>\n",
       "    </tr>\n",
       "    <tr>\n",
       "      <th>40</th>\n",
       "      <td>DOS ESPECIES NUEVAS (OLIGOCHAETA: TUMAKIDAE) D...</td>\n",
       "      <td>DOS ESPECIES NUEVAS (OLIGOCHAETA: TUMAKIDAE) D...</td>\n",
       "      <td>100</td>\n",
       "    </tr>\n",
       "  </tbody>\n",
       "</table>\n",
       "</div>"
      ],
      "text/plain": [
       "                                         display_name  \\\n",
       "0   La enseñanza en economía: una reflexión desde ...   \n",
       "1   La enseñanza de la economía: reflexiones acerc...   \n",
       "2   La enseñanza de la economía: reflexiones acerc...   \n",
       "3   Susceptibilidad de Aedes aegypti (Diptera: Cul...   \n",
       "4                      Energía y desarrollo económico   \n",
       "5   La regulación de telefonía local en Colombia: ...   \n",
       "6   La economía experimental como aprendizaje sign...   \n",
       "7   Aportes Del “Nonágono semiótico” Para la compr...   \n",
       "8   La imagen visual de la identidad, entre resist...   \n",
       "9   Bioformulado de Beauveria bassiana (ATCC MYA-4...   \n",
       "10  Procedimiento guía para manejo seguro de susta...   \n",
       "11  Riesgos biológico y químico en planta de compo...   \n",
       "12  Balance de la Cooperación Internacional al des...   \n",
       "13  Simulación de la cesárea perimortem, más allá ...   \n",
       "14                   Remesas y organizaciones locales   \n",
       "15  Aproximaciones Teóricas a la Relación entre Re...   \n",
       "16  Gestión estratégica de la cultura organizacion...   \n",
       "17  De la Responsabilidad Social Empresarial a la ...   \n",
       "18  Horswill Algorithm Application to Avoid Obstacles   \n",
       "19  Rendezvous Consensus Algorithm Applied to the ...   \n",
       "20  EMPLEO DE GRÁFICAS EN EL ESTUDIO DEL CONCEPTO ...   \n",
       "21  Construcción de una herramienta para certifica...   \n",
       "22  Effect on thermal oxidation in TiO2 nanostruct...   \n",
       "23  RIQUEZA Y DISTRIBUCIÓN DE MUSGOS EN EL DEPARTA...   \n",
       "24  Antioxidant activity and free radical-scavengi...   \n",
       "25  SHALE PLAYS: PRONÓSTICOS DE PRODUCCIÓN A PARTI...   \n",
       "26  APLICACIÓN DEL APRENDIZAJE BASADO EN PROBLEMAS...   \n",
       "27  Diagnóstico de la cultura emprendedora en la E...   \n",
       "28  Biomodelos animales y enfermedades infecciosas...   \n",
       "29  Active Learning: Faculty Mind-sets and the Nee...   \n",
       "30  Ambientes de Aprendizaje en contexto: estudio ...   \n",
       "31  Aplicaciones de un modelo integral para el est...   \n",
       "32  Aplicación de base tecnológica como apoyo al p...   \n",
       "33  Multitemporal Land Cover Change Analysis in th...   \n",
       "34  SEMISÍNTESIS DE ÉSTERES Y AMIDAS A PARTIR DE U...   \n",
       "35  Ácidos Orgánicos Constitutivos de las Resinas ...   \n",
       "36  Bone age detection via carpogram analysis usin...   \n",
       "37   An empirical study on global bone age assessment   \n",
       "38  Digital image processing techniques applied to...   \n",
       "39  &lt;strong&gt;Two new earthworm species (Oligo...   \n",
       "40  DOS ESPECIES NUEVAS (OLIGOCHAETA: TUMAKIDAE) D...   \n",
       "\n",
       "                                       original_title  score_thefuzz  \n",
       "0   La enseñanza en economía: una reflexión desde ...            100  \n",
       "1   La enseñanza de la Economía: reflexiones acerc...            100  \n",
       "2   La enseñanza de la economía: Reflexiones acerc...             95  \n",
       "3   Susceptibilidad de Aedes aegypti (Diptera: Cul...            100  \n",
       "4                      Energía y Desarrollo Económico            100  \n",
       "5   La Regulación de Telefonía Local en Colombia: ...            100  \n",
       "6   La economía experimental como aprendizaje sign...            100  \n",
       "7   Aportes del \"nonágono semiótico\" para la compr...             99  \n",
       "8   La imagen visual de la identidad, entre resist...            100  \n",
       "9   Bioformulado de Beauveria bassiana (ATCC MYA-4...            100  \n",
       "10  PROCEDIMIENTO GUÍA PARA MANEJO SEGURO DE SUSTA...            100  \n",
       "11  Riesgos biológico y químico en planta de compo...            100  \n",
       "12  Balance de la Cooperación Internacional al des...            100  \n",
       "13  Simulación de la cesárea perimortem , más allá...             97  \n",
       "14                   Remesas y organizaciones locales            100  \n",
       "15  Aproximaciones teóricas a la relación entre Re...            100  \n",
       "16  Gestión estratégica de la cultura organizacion...            100  \n",
       "17  De la Responsabilidad Social Empresarial a la ...            100  \n",
       "18  Horswill Algorithm Application to Avoid Obstacles            100  \n",
       "19  Rendezvous Consensus Algorithm Applied to the ...            100  \n",
       "20  EMPLEO DE GRÁFICAS EN EL ESTUDIO DEL CONCEPTO ...            100  \n",
       "21  Construcción de una herramienta para certifica...            100  \n",
       "22  Effect on thermal oxidation in TiO2 nanostruct...            100  \n",
       "23  Riqueza y distribución de musgos en el departa...            100  \n",
       "24  Antioxidant activity and free radical scavengi...            100  \n",
       "25  SHALE PLAYS: PRONÓSTICOS DE PRODUCCIÓN A PARTI...            100  \n",
       "26  APLICACIÓN DEL APRENDIZAJE BASADO EN PROBLEMAS...            100  \n",
       "27  DIAGNÓSTICO DE LA CULTURA EMPRENDEDORA EN LA E...            100  \n",
       "28  Biomodelos animales y enfermedades infecciosas...            100  \n",
       "29  Active Learning: Faculty Mind-sets and the Nee...            100  \n",
       "30  Ambientes de Aprendizaje en contexto: estudio ...            100  \n",
       "31  Aplicaciones de un modelo integral para el est...            100  \n",
       "32  Aplicación de base tecnológica como apoyo al p...            100  \n",
       "33  Multitemporal Land Cover Change Analysis in th...            100  \n",
       "34  SEMISÍNTESIS DE ÉSTERES Y AMIDAS A PARTIR DE U...            100  \n",
       "35  Ácidos Orgánicos Constitutivos de las Resinas ...            100  \n",
       "36  Bone age detection via carpogram analysis usin...            100  \n",
       "37   An empirical study on global bone age assessment            100  \n",
       "38  Digital image processing techniques applied to...            100  \n",
       "39  Two new earthworm species (Oligochaeta: Anneli...             95  \n",
       "40  DOS ESPECIES NUEVAS (OLIGOCHAETA: TUMAKIDAE) D...            100  "
      ]
     },
     "execution_count": 269,
     "metadata": {},
     "output_type": "execute_result"
    }
   ],
   "source": [
    "pd.DataFrame(found)[['display_name','original_title','score_thefuzz']]"
   ]
  },
  {
   "cell_type": "code",
   "execution_count": 222,
   "id": "65df72c6-83c5-4d20-95a1-5f7892533e72",
   "metadata": {},
   "outputs": [
    {
     "data": {
      "text/plain": [
       "('Baryonic violation of R parity from anomalous U (1)H', 99)"
      ]
     },
     "execution_count": 222,
     "metadata": {},
     "output_type": "execute_result"
    }
   ],
   "source": [
    "process.extractOne(original_title,titles)"
   ]
  },
  {
   "cell_type": "code",
   "execution_count": 225,
   "id": "a45dbc86-1dd8-4989-949c-72af78fca568",
   "metadata": {},
   "outputs": [
    {
     "data": {
      "text/plain": [
       "99"
      ]
     },
     "execution_count": 225,
     "metadata": {},
     "output_type": "execute_result"
    }
   ],
   "source": [
    "score"
   ]
  },
  {
   "cell_type": "code",
   "execution_count": 158,
   "id": "afd61425-6dff-40d4-b570-7c6b0a7d638f",
   "metadata": {},
   "outputs": [
    {
     "data": {
      "text/plain": [
       "'Incidencia del crecimiento económico en las emisiones de CO2Ñ Un análisis comparativo (1980-2008)'"
      ]
     },
     "execution_count": 158,
     "metadata": {},
     "output_type": "execute_result"
    }
   ],
   "source": [
    "original_title"
   ]
  },
  {
   "cell_type": "code",
   "execution_count": 159,
   "id": "08a7ba28-b137-4bb9-b748-3902a7f049df",
   "metadata": {},
   "outputs": [
    {
     "data": {
      "text/plain": [
       "'Incidencia+del+crecimiento+económico+en+las+emisiones+de+CO2Ñ+Un+análisis+comparativo+(1980-2008)'"
      ]
     },
     "execution_count": 159,
     "metadata": {},
     "output_type": "execute_result"
    }
   ],
   "source": [
    "original_title.replace(' ','+')"
   ]
  },
  {
   "cell_type": "code",
   "execution_count": 115,
   "id": "24cc1a13-7cd7-46aa-9e2c-48083cacd359",
   "metadata": {},
   "outputs": [
    {
     "data": {
      "text/plain": [
       "200"
      ]
     },
     "execution_count": 115,
     "metadata": {},
     "output_type": "execute_result"
    }
   ],
   "source": [
    "oa.status_code"
   ]
  },
  {
   "cell_type": "code",
   "execution_count": 116,
   "id": "0af8f9f0-48ec-4ac8-976a-ea4ac86ae285",
   "metadata": {},
   "outputs": [
    {
     "name": "stdout",
     "output_type": "stream",
     "text": [
      "1\n"
     ]
    }
   ],
   "source": [
    "    print(1)"
   ]
  },
  {
   "cell_type": "code",
   "execution_count": null,
   "id": "4248f99c-1174-49b5-a87b-2180780a9d61",
   "metadata": {},
   "outputs": [],
   "source": []
  },
  {
   "cell_type": "code",
   "execution_count": null,
   "id": "058178a1-e3ba-4e4e-8328-b280d154495e",
   "metadata": {},
   "outputs": [],
   "source": []
  }
 ],
 "metadata": {
  "kernelspec": {
   "display_name": "Python 3 (ipykernel)",
   "language": "python",
   "name": "python3"
  },
  "language_info": {
   "codemirror_mode": {
    "name": "ipython",
    "version": 3
   },
   "file_extension": ".py",
   "mimetype": "text/x-python",
   "name": "python",
   "nbconvert_exporter": "python",
   "pygments_lexer": "ipython3",
   "version": "3.10.12"
  }
 },
 "nbformat": 4,
 "nbformat_minor": 5
}
